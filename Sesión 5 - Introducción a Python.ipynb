{
 "cells": [
  {
   "cell_type": "markdown",
   "metadata": {},
   "source": [
    "## ¡Bienvenidos a la Segunda Semana de Mastery Data Science!"
   ]
  },
  {
   "cell_type": "markdown",
   "metadata": {},
   "source": [
    "Para recapitular. \n",
    "\n",
    "La semana pasada estuvimos entrando al Tema de Python como un lenguaje de programación super útil y super funcional. \n",
    "Como podrán recordar podemos útlizar Python para diferentes proyectos y desarrollos. Depende cuál es la necesidad que tengamos."
   ]
  },
  {
   "cell_type": "markdown",
   "metadata": {},
   "source": [
    "### Lógica en Python"
   ]
  },
  {
   "cell_type": "markdown",
   "metadata": {},
   "source": [
    "Ahora que conocemos a fondo los tipos numéricos básicos y cómo jugar con ellos y almacenarlos en Python (listas, tuplas, sets, diccionarios), sigamos construyendo nuestras herramientas para que podamos usarlas para controlar el flujo de nuestros programas.\n",
    "\n",
    "La forma más sencilla de controlar el flujo de su programa en Python es con una declaración if.\n",
    "\n",
    "Una declaración if nos permite verificar si cierta condición es verdadera o no. De ser así, se realizarán ciertas operaciones. De lo contrario, esas operaciones no se ejecutarán.\n",
    "\n",
    "Ejemplo: Números pares\n",
    "\n",
    "La sintaxis general de una instrucción if en Python es:\n",
    "\n",
    "```python\n",
    "if condicion:\n",
    "    if_block_statement\n",
    "```\n",
    "\n",
    "Observe cómo la instrucción if, después de la condición, termina en dos puntos :. Esta es la forma en que Python declara el inicio de un bloque de sangría. Los propósitos de los bloques de sangría se manifiestan de muchas maneras diferentes. Con nuestra declaración if, solo sepa que marcan una sección de código que se ejecuta en circunstancias específicas, cuando la condición es verdadera. ¿Qué significa, entonces, que una condición sea verdadera? Para entender esto, repasemos un poco los condicionales.\n",
    "\n",
    "La sintaxis general de una instrucción if en Python es:\n",
    "`True` y` False` son lo que llamamos booleanos en lógica, y lo que Python los llama (`bool` para abreviar). Son un tipo de variable especial con muchos usos potenciales; principalmente se usan como una forma de poner una etiqueta a la verdad de una declaración. Hay dos palabras reservadas específicamente para bools en Python, `True` y` False`. Tenga en cuenta que estos comienzan con letras mayúsculas."
   ]
  },
  {
   "cell_type": "code",
   "execution_count": 1,
   "metadata": {},
   "outputs": [
    {
     "data": {
      "text/plain": [
       "bool"
      ]
     },
     "execution_count": 1,
     "metadata": {},
     "output_type": "execute_result"
    }
   ],
   "source": [
    "type(True)"
   ]
  },
  {
   "cell_type": "code",
   "execution_count": 2,
   "metadata": {},
   "outputs": [
    {
     "data": {
      "text/plain": [
       "bool"
      ]
     },
     "execution_count": 2,
     "metadata": {},
     "output_type": "execute_result"
    }
   ],
   "source": [
    "type(False)"
   ]
  },
  {
   "cell_type": "markdown",
   "metadata": {},
   "source": [
    "Vamos a repasar un poco las condicionales que vimos la semana pasada:"
   ]
  },
  {
   "cell_type": "code",
   "execution_count": 3,
   "metadata": {},
   "outputs": [
    {
     "data": {
      "text/plain": [
       "False"
      ]
     },
     "execution_count": 3,
     "metadata": {},
     "output_type": "execute_result"
    }
   ],
   "source": [
    "1 == 2"
   ]
  },
  {
   "cell_type": "code",
   "execution_count": 4,
   "metadata": {},
   "outputs": [
    {
     "data": {
      "text/plain": [
       "True"
      ]
     },
     "execution_count": 4,
     "metadata": {},
     "output_type": "execute_result"
    }
   ],
   "source": [
    "1 != 2"
   ]
  },
  {
   "cell_type": "code",
   "execution_count": 5,
   "metadata": {},
   "outputs": [
    {
     "data": {
      "text/plain": [
       "True"
      ]
     },
     "execution_count": 5,
     "metadata": {},
     "output_type": "execute_result"
    }
   ],
   "source": [
    "1 < 2"
   ]
  },
  {
   "cell_type": "code",
   "execution_count": 6,
   "metadata": {},
   "outputs": [
    {
     "data": {
      "text/plain": [
       "False"
      ]
     },
     "execution_count": 6,
     "metadata": {},
     "output_type": "execute_result"
    }
   ],
   "source": [
    "1 > 2"
   ]
  },
  {
   "cell_type": "code",
   "execution_count": 7,
   "metadata": {},
   "outputs": [
    {
     "data": {
      "text/plain": [
       "True"
      ]
     },
     "execution_count": 7,
     "metadata": {},
     "output_type": "execute_result"
    }
   ],
   "source": [
    "1 <= 2"
   ]
  },
  {
   "cell_type": "code",
   "execution_count": 8,
   "metadata": {},
   "outputs": [
    {
     "data": {
      "text/plain": [
       "False"
      ]
     },
     "execution_count": 8,
     "metadata": {},
     "output_type": "execute_result"
    }
   ],
   "source": [
    "1 >= 2"
   ]
  },
  {
   "cell_type": "markdown",
   "metadata": {},
   "source": [
    "Ahora como podemos observar, y como ya habíamos visto, las condicionales anteriores nos están devolviendo un valor True o False.\n",
    "Estos comparadores son los que nos van a apoyar a válidar que la condición en nuestro if statement se cumpla."
   ]
  },
  {
   "cell_type": "markdown",
   "metadata": {},
   "source": [
    "Vamos a compenzar haciendo ejemplos muy sencillos de como funciona el if."
   ]
  },
  {
   "cell_type": "code",
   "execution_count": 9,
   "metadata": {},
   "outputs": [
    {
     "ename": "NameError",
     "evalue": "name 'x' is not defined",
     "output_type": "error",
     "traceback": [
      "\u001b[0;31m---------------------------------------------------------------------------\u001b[0m",
      "\u001b[0;31mNameError\u001b[0m                                 Traceback (most recent call last)",
      "\u001b[0;32m<ipython-input-9-972808534537>\u001b[0m in \u001b[0;36m<module>\u001b[0;34m\u001b[0m\n\u001b[0;32m----> 1\u001b[0;31m \u001b[0;32mif\u001b[0m \u001b[0mx\u001b[0m \u001b[0;34m>\u001b[0m \u001b[0;36m10\u001b[0m\u001b[0;34m:\u001b[0m\u001b[0;34m\u001b[0m\u001b[0;34m\u001b[0m\u001b[0m\n\u001b[0m\u001b[1;32m      2\u001b[0m     \u001b[0mprint\u001b[0m\u001b[0;34m(\u001b[0m\u001b[0;34m'x es mayor a 10'\u001b[0m\u001b[0;34m)\u001b[0m\u001b[0;34m\u001b[0m\u001b[0;34m\u001b[0m\u001b[0m\n",
      "\u001b[0;31mNameError\u001b[0m: name 'x' is not defined"
     ]
    }
   ],
   "source": [
    "if x > 10:\n",
    "    print('x es mayor a 10')"
   ]
  },
  {
   "cell_type": "markdown",
   "metadata": {},
   "source": [
    "En este ejemplo, si corremos el bloque de código vamos a obtener un error.\n",
    "\n",
    "¿Cuál es la razón? ¿Qué debemos hacer cuando obtenemos un error? \n",
    "1. Ver cuál es el error que estoy obteniendo. El mensaje de error me va ayudar a detectar como solucionar el problema. \n",
    "\n",
    "En general este es un error que quizá para algunos es muy obvio pero no quizé perder la oportunidad de mostrarles.\n",
    "\n",
    "Vamos a declarar la variable x. \n",
    "\n",
    "Podemos hacerlo de 2 diferentes formas. \n",
    "\n",
    "Definiendo la variable por nosotros mismos o bien indicando al usuario que ingrese el valor de x."
   ]
  },
  {
   "cell_type": "code",
   "execution_count": 10,
   "metadata": {},
   "outputs": [],
   "source": [
    "#aqui puedes cambiar el valor de x\n",
    "x = 8\n",
    "if x > 10:\n",
    "    print('x es mayor a 10')"
   ]
  },
  {
   "cell_type": "code",
   "execution_count": 13,
   "metadata": {},
   "outputs": [
    {
     "name": "stdout",
     "output_type": "stream",
     "text": [
      "Ingresa el valor de x12\n",
      " x es mayor a 10\n"
     ]
    }
   ],
   "source": [
    "#Aquí ya le estamos pidiendo al usuario que me de un valor de x y con eso se va a accionar o no mi if\n",
    "x = int(input('Ingresa el valor de x'))\n",
    "if x > 10:\n",
    "    print(' x es mayor a 10')"
   ]
  },
  {
   "cell_type": "code",
   "execution_count": 14,
   "metadata": {},
   "outputs": [
    {
     "name": "stdout",
     "output_type": "stream",
     "text": [
      "Ingresa el valor de x 13\n",
      "x es mayor a 10\n"
     ]
    }
   ],
   "source": [
    "#En el código anterior aún nos estabamos brincando un paso que es el de hacer que la variable x sea un tipo Número, \n",
    "#ya sea entero o float\n",
    "x = int(input('Ingresa el valor de x '))\n",
    "if x > 10:\n",
    "    print('x es mayor a 10')"
   ]
  },
  {
   "cell_type": "markdown",
   "metadata": {},
   "source": [
    "### Elif and Else"
   ]
  },
  {
   "cell_type": "markdown",
   "metadata": {},
   "source": [
    "Ahora veamos ejemplos de como hacer más preguntas utilizando if, elseif y else."
   ]
  },
  {
   "cell_type": "code",
   "execution_count": 20,
   "metadata": {},
   "outputs": [
    {
     "name": "stdout",
     "output_type": "stream",
     "text": [
      "Ingresa el valor de x 3\n",
      "El número es positivo.\n"
     ]
    }
   ],
   "source": [
    "x = int(input('Ingresa el valor de x '))\n",
    "if x < 0:\n",
    "    print('El número es negativo.')\n",
    "elif x > 0:\n",
    "    print('El número es positivo.')\n",
    "else:\n",
    "    print('Ingresaste el número 0.')"
   ]
  },
  {
   "cell_type": "markdown",
   "metadata": {},
   "source": [
    "En Python el switch-case no existe. Entonces la forma de simular el switch sería con elseif y dentro de cada uno hacer la pregunta de lo que quieres válidar y la operación que deseas que sea ejecutada de acuerdo a si se cumple esa condición."
   ]
  },
  {
   "cell_type": "code",
   "execution_count": 21,
   "metadata": {},
   "outputs": [
    {
     "name": "stdout",
     "output_type": "stream",
     "text": [
      "Ingresa el valor de x 4\n",
      "Dame otro número 6\n"
     ]
    }
   ],
   "source": [
    "x = int(input('Ingresa el valor de x '))\n",
    "if x < 0:\n",
    "    print('El número es negativo.')\n",
    "elif x > 0:\n",
    "    y = int(input('Dame otro número '))\n",
    "else:\n",
    "    print('Ingresaste el número 0.')"
   ]
  },
  {
   "cell_type": "code",
   "execution_count": 22,
   "metadata": {},
   "outputs": [
    {
     "name": "stdout",
     "output_type": "stream",
     "text": [
      "Ingresa el valor de x 7\n",
      "El número es mayor a 5.\n"
     ]
    }
   ],
   "source": [
    "x = int(input('Ingresa el valor de x '))\n",
    "if x > 5:\n",
    "    print('El número es mayor a 5.')\n",
    "elif x > 0:\n",
    "    print('El número es Positivo.')\n",
    "elif x < 0:\n",
    "    print('El número es negativo.')\n",
    "else:\n",
    "    print('Ingresaste el número 0.')\n",
    "\n",
    "    \n",
    "#Nota: Solo un block de condiciones va a ser evaluado, lo que hace que sea muy eficiente. Tu esperarias que quizá imprimiera \n",
    "#El número es positivo y también que el número es mayor a 5. Sin embargo tu resultado no será el que esperas.\n"
   ]
  },
  {
   "cell_type": "markdown",
   "metadata": {},
   "source": [
    "## Else If Ejercicios para prácticar en Clase"
   ]
  },
  {
   "cell_type": "markdown",
   "metadata": {},
   "source": [
    "1. Imprime \"Me agrada este número\" Si x es de un número de un solo digito\n",
    "2. Imprime \"Este número me gusta más!\" Si x es de un número de dos digitos\n",
    "3. Imprime \"No me gusta este número\" si no es ninguna de las anteriores"
   ]
  },
  {
   "cell_type": "code",
   "execution_count": 26,
   "metadata": {},
   "outputs": [
    {
     "name": "stdout",
     "output_type": "stream",
     "text": [
      "Ingresa el valor de x 10\n",
      "No me gusta este número\n"
     ]
    }
   ],
   "source": [
    "x = int(input('Ingresa el valor de x '))\n",
    "if x < 10:\n",
    "    print(\"Me agrada este número\")\n",
    "elif x > 10:\n",
    "    print( \"Este número me gusta más!\")\n",
    "else:\n",
    "    print(\"No me gusta este número\")"
   ]
  },
  {
   "cell_type": "markdown",
   "metadata": {},
   "source": [
    "En Python tenemos otra forma de hacer preguntas también. Existen otros operadores que nos ayudarán a hacer preguntas en nuestro código. Son los siguientes:\n",
    "    `and`, `or` , `not`  \n",
    "    "
   ]
  },
  {
   "cell_type": "code",
   "execution_count": 27,
   "metadata": {},
   "outputs": [
    {
     "name": "stdout",
     "output_type": "stream",
     "text": [
      "4\n"
     ]
    }
   ],
   "source": [
    "#Ejemplos de como utilizarlos\n",
    "x = 4\n",
    "if x > 10 or x < 5:\n",
    "    print(x)"
   ]
  },
  {
   "cell_type": "code",
   "execution_count": 29,
   "metadata": {},
   "outputs": [
    {
     "name": "stdout",
     "output_type": "stream",
     "text": [
      "6\n"
     ]
    }
   ],
   "source": [
    "x = 6\n",
    "if (x <= 10 and x >= 5):\n",
    "    print(x)"
   ]
  },
  {
   "cell_type": "markdown",
   "metadata": {},
   "source": [
    "## And , or , not Ejercicios en Clase\n",
    "\n",
    "1. Imprime la X: si x está entre 20 y 30.\n",
    "2. Imprime la x: si x es mayor que 10.\n",
    "3. Imprime la x: si x no es un número positivo."
   ]
  },
  {
   "cell_type": "code",
   "execution_count": 43,
   "metadata": {},
   "outputs": [
    {
     "name": "stdout",
     "output_type": "stream",
     "text": [
      "Ingresa el valor de x 19\n",
      "Es mayor que 10\n"
     ]
    }
   ],
   "source": [
    "x = int(input(\"Ingresa el valor de x \"))\n",
    "if (x >=10 and x <= 19):\n",
    "    print(\"Es mayor que 10\")\n",
    "elif (x >= 20 and x <= 30):\n",
    "    print(\"Esta entre 20 y 30\")\n",
    "elif not (x > 0):\n",
    "    print(\"Es negativo\")\n",
    "else:\n",
    "    print(x)"
   ]
  },
  {
   "cell_type": "code",
   "execution_count": null,
   "metadata": {},
   "outputs": [],
   "source": []
  },
  {
   "cell_type": "code",
   "execution_count": null,
   "metadata": {},
   "outputs": [],
   "source": []
  }
 ],
 "metadata": {
  "kernelspec": {
   "display_name": "Python 3",
   "language": "python",
   "name": "python3"
  },
  "language_info": {
   "codemirror_mode": {
    "name": "ipython",
    "version": 3
   },
   "file_extension": ".py",
   "mimetype": "text/x-python",
   "name": "python",
   "nbconvert_exporter": "python",
   "pygments_lexer": "ipython3",
   "version": "3.7.6"
  }
 },
 "nbformat": 4,
 "nbformat_minor": 2
}
