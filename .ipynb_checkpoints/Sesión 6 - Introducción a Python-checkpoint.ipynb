{
 "cells": [
  {
   "cell_type": "markdown",
   "metadata": {},
   "source": [
    "## Ciclos: For y while\n",
    "\n",
    "El día de ayer comenzamos a ver el tema de condicionales. Aprendimos como utilizar if, elif y else en python. Ahora vamos a cambiar a otro tema. \n",
    "\n",
    "Lo que serían los For y While. Que son secuencias de código que en cierto punto nos permiten automatizar o nos evitan escribir líneas de código innecesarias. Son iteradores en donde nosotros definimos cuantas \"vueltas\" queremos que den para completar una tarea/calculo , etc.\n",
    "\n",
    "Consideremos el siguiente ejemplo:"
   ]
  },
  {
   "cell_type": "code",
   "execution_count": 2,
   "metadata": {},
   "outputs": [
    {
     "name": "stdout",
     "output_type": "stream",
     "text": [
      "36\n"
     ]
    }
   ],
   "source": [
    "suma = 1 + 2 + 3 + 4 + 5 + 6 + 7 + 8\n",
    "print(suma)"
   ]
  },
  {
   "cell_type": "markdown",
   "metadata": {},
   "source": [
    "¿De que forma podriamos resolver el problema anterior con un For?\n",
    "\n",
    "De la siguiente:\n",
    "    "
   ]
  },
  {
   "cell_type": "code",
   "execution_count": 4,
   "metadata": {},
   "outputs": [
    {
     "name": "stdout",
     "output_type": "stream",
     "text": [
      "36\n"
     ]
    }
   ],
   "source": [
    "suma = 0\n",
    "for i in range(1,9):\n",
    "    suma = suma + i\n",
    "print(suma)"
   ]
  },
  {
   "cell_type": "markdown",
   "metadata": {},
   "source": [
    "¿Cuál sería la forma de resolverlo con un while?"
   ]
  },
  {
   "cell_type": "code",
   "execution_count": 5,
   "metadata": {},
   "outputs": [
    {
     "name": "stdout",
     "output_type": "stream",
     "text": [
      "36\n"
     ]
    }
   ],
   "source": [
    "total, x = 0, 1\n",
    "while x <= 8:\n",
    "    total =total + x\n",
    "    x = x + 1\n",
    "print(total)"
   ]
  },
  {
   "cell_type": "markdown",
   "metadata": {},
   "source": [
    "Ven la diferencia? Alomejor se ven mas líneas de codigo, pero si tuvieramos que hacer una suma del 1 al 100 entonces ahí nos estariamos ahorrando teclear muchos números."
   ]
  },
  {
   "cell_type": "markdown",
   "metadata": {},
   "source": [
    "Arriba pueden observar la palabra range() que es una función que regresa una secuencia de números. Es similar a una lista. \n",
    "\n",
    "De hecho si hicieramos lo siguiente:"
   ]
  },
  {
   "cell_type": "code",
   "execution_count": 10,
   "metadata": {},
   "outputs": [
    {
     "name": "stdout",
     "output_type": "stream",
     "text": [
      "[1, 2, 3, 4, 5, 6, 7, 8, 9]\n"
     ]
    }
   ],
   "source": [
    "print(list(range(1,10))) "
   ]
  },
  {
   "cell_type": "markdown",
   "metadata": {},
   "source": [
    "Podríamos ver los números que están contenidos."
   ]
  },
  {
   "cell_type": "markdown",
   "metadata": {},
   "source": [
    "Esto es hablando del tema de números. Pero podemos utilizar los ciclos for utilizando también listas, sets o diccionarios."
   ]
  },
  {
   "cell_type": "code",
   "execution_count": 11,
   "metadata": {},
   "outputs": [
    {
     "name": "stdout",
     "output_type": "stream",
     "text": [
      "Ana\n",
      "Marisol\n",
      "José\n"
     ]
    }
   ],
   "source": [
    "#Ejemplos con Listas\n",
    "\n",
    "nombres = ['Ana','Marisol','José']\n",
    "\n",
    "for i in nombres:\n",
    "    print(i)\n",
    "    \n",
    "#De esta forma estamos recorriendo una lista de nombres"
   ]
  },
  {
   "cell_type": "code",
   "execution_count": 12,
   "metadata": {},
   "outputs": [
    {
     "name": "stdout",
     "output_type": "stream",
     "text": [
      "plátano\n",
      "manzana\n",
      "pera\n"
     ]
    }
   ],
   "source": [
    "#Ejemplo con sets\n",
    "set_frutas = {\"manzana\", \"pera\", \"plátano\"}\n",
    "\n",
    "for x in set_frutas:\n",
    "    print(x)"
   ]
  },
  {
   "cell_type": "code",
   "execution_count": 24,
   "metadata": {},
   "outputs": [
    {
     "name": "stdout",
     "output_type": "stream",
     "text": [
      "a\n",
      "b\n",
      "c\n",
      "d\n"
     ]
    }
   ],
   "source": [
    "#Ejemplo con diccionarios\n",
    "dic = {'a' : 1, 'b' : 2, 'c' : 3 , 'd' : 4}\n",
    "for i in dic:\n",
    "    print(i)"
   ]
  },
  {
   "cell_type": "code",
   "execution_count": 25,
   "metadata": {},
   "outputs": [
    {
     "name": "stdout",
     "output_type": "stream",
     "text": [
      "1\n",
      "2\n",
      "3\n",
      "4\n"
     ]
    }
   ],
   "source": [
    "#Ejemplo con diccionarios\n",
    "dic = {'a' : 1, 'b' : 2, 'c' : 3 , 'd' : 4}\n",
    "for i in dic.values():\n",
    "    print(i)"
   ]
  },
  {
   "cell_type": "markdown",
   "metadata": {},
   "source": [
    "En general está es la forma en la que funcionan los ciclos For y while. Puede ser complicado si es la primera vez que lo vez, sin embargo conforme práctiques irá siendo mas sencillo y te irás familiarizando con la sintaxis y los temas."
   ]
  },
  {
   "cell_type": "markdown",
   "metadata": {},
   "source": [
    "#### Ahora vamos a hacer unos ejercicios de repaso para entender mejor el funcionamiento de los ciclos for, while, if y además el reforzar nuestra lógica en programación.\n",
    "\n",
    "## Ejercicios en Clase\n",
    "1. Escribe un script que tome un número ingresado por el usuario e imprima si es positivo, negativo o cero. Debe imprimirse de la siguiente forma \"El número ingresado es (positivo / negativo / cero)\".\n",
    "2. Escribe una secuencia de comandos que tome dos números ingresados por el usuario e imprima \"El primer número es mayor\" o \"El segundo número es mayor\" dependiendo de cuál sea mayor. (** Sugerencia **: necesitará usar input () dos veces.\n",
    "3. Escriba un script que calcule la suma de 0 a un número ingresado por el usuario. Sin embargo, esta vez, comience con el número ingresado por el usuario y continúe hacia abajo. Esta respuesta se parecerá mucho al ejemplo anterior, solo tendrá que cambiar un par de cosas.\n",
    "4. Escriba un script que calcule el factorial de un número ingresado por el usuario. Si no sabe qué es un factorial o necesita una revisión, consulte el enlace (https://es.wikipedia.org/wiki/Factorial ). Una vez más, su solución se parecerá mucho al código anterior. Cosas que debes pensar:\n",
    "        ¿Cuál es el proceso de calcular un factorial si fuera a calcularlo a mano?\n",
    "        ¿Cuál es el punto de partida común cuando se trata de calcular el factorial de cualquier número?\n",
    "5. Escriba un script que calcule e imprima todos los divisores de un número ingresado por el usuario. Si no sabe qué es un divisor o necesita una revisión, consulte el enlace( https://en.wikipedia.org/wiki/Divisor ). Cosas para pensar:\n",
    "        ¿Cómo se determina si un solo número es un divisor de otro?\n",
    "        ¿Cómo haces esto varias veces (** Sugerencia **: implica un ciclo while)?\n",
    "        ¿Cuándo detiene el ciclo?\n",
    "6. Escriba un script que calcule el máximo divisor común entre dos números ingresados por el usuario. Si no sabe cuál es el mayor divisor común, consulte el enlace (https://en.wikipedia.org/wiki/Greatest_common_divisor ). Cosas para pensar:\n",
    "        ¿Cómo se obtienen dos números del usuario?\n",
    "        ¿Dónde debe comenzar su búsqueda del GCD?\n",
    "        ¿Dónde / cómo debe finalizar su búsqueda?\n",
    "7. Escribe un script que calcule el mínimo común múltiplo entre dos números ingresados por el usuario. Si no sabes cuál es el mínimo común múltiplo o deseas una revisión, puedes consultar ( https://es.wikipedia.org/wiki/M%C3%ADnimo_com%C3%BAn_m%C3%BAltiplo ). Cosas para pensar:\n",
    "        ¿Cómo se obtienen dos números del usuario?\n",
    "        ¿Dónde debe comenzar su búsqueda del LCM?\n",
    "        ¿Dónde / cómo debe finalizar su búsqueda?\n",
    "8. Escribe una secuencia de comandos que determine si un número ingresado por el usuario es un número primo e imprime `` El número que ingresó es (no es) un número primo '', según lo que encuentre su secuencia de comandos. Si no sabes qué es un número primo o necesita una revisión, consulte el enlace (https://es.wikipedia.org/wiki/Número_primo ). Cosas para pensar:\n",
    "        ¿Cómo verifica si un número es divisible por otro número?\n",
    "        ¿Qué números son divisibles por un número primo?\n",
    "        ¿Cómo verifica todos los números por los que un número puede ser divisible (** Sugerencia **: use un bucle)?\n",
    "        ¿Cuándo detiene el ciclo?"
   ]
  },
  {
   "cell_type": "code",
   "execution_count": null,
   "metadata": {},
   "outputs": [],
   "source": []
  }
 ],
 "metadata": {
  "kernelspec": {
   "display_name": "Python 3",
   "language": "python",
   "name": "python3"
  },
  "language_info": {
   "codemirror_mode": {
    "name": "ipython",
    "version": 3
   },
   "file_extension": ".py",
   "mimetype": "text/x-python",
   "name": "python",
   "nbconvert_exporter": "python",
   "pygments_lexer": "ipython3",
   "version": "3.7.6"
  }
 },
 "nbformat": 4,
 "nbformat_minor": 2
}
