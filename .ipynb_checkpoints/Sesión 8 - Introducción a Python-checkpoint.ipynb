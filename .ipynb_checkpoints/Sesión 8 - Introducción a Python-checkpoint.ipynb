{
 "cells": [
  {
   "cell_type": "markdown",
   "metadata": {},
   "source": [
    "## Sesión 8 - Estructurando el código"
   ]
  },
  {
   "cell_type": "markdown",
   "metadata": {},
   "source": [
    "Se acuerdan de la actividad de la semana pasada de la Divina Comedia?\n",
    "\n",
    "Ahora bien. Se acuerdan como le hicieron para resolver las preguntas que les solicite?\n",
    "\n",
    "Para repasar este Proyecto Ahora vamos a crear funciones al responder las preguntas de la sesión 4 parte 2. Aquí pondre las preguntas.\n",
    "\n",
    "#con la siguiente instrucción lee un archivo txt\n",
    "file = open('Divina Comedia.txt')\n",
    "\n",
    "#Aqui estas indicando que quieres obtener los primeros 5000 caracteres del txt\n",
    "first_5000 = file.read()[:5000]\n",
    "\n",
    "Para el análisis del texto vamos a hacernos las siguientes preguntas:\n",
    "\n",
    "1. ¿Cuántas palabras existen en los primeros 5,000 caracteres?\n",
    "2. ¿Cuántas palabras únicas existen en el mismo rango?\n",
    "3. Válidar si una palabra aparece en el texto. Una palabra que un usuario ingrese a través de una función.\n",
    "4. Elimina los signos de puntuación y nuevamente obten cuantas palabras únicas existan en las primeras 5000 caracteres.\n",
    "5. Crea un diccionario donde asignes el número de apariciones a la palabra existente.\n",
    "Por ejemplo:\n",
    "{'the':4,\n",
    "'boy':5,\n",
    "'CANTO':10}\n",
    "\n",
    "6. Vamos a crear un archivo .py y guardar las funciones. Al final vamos a mandarlas a llamar. Esto lo haremos todos juntos en clase."
   ]
  },
  {
   "cell_type": "code",
   "execution_count": 1,
   "metadata": {},
   "outputs": [],
   "source": [
    "file = open('Divina Comedia.txt')\n",
    "first_5000 = file.read()[:5000]"
   ]
  },
  {
   "cell_type": "code",
   "execution_count": 4,
   "metadata": {},
   "outputs": [
    {
     "name": "stdout",
     "output_type": "stream",
     "text": [
      "901\n"
     ]
    }
   ],
   "source": [
    "## ¿Cuántas palabras existen en los primeros 5,000 caracteres?\n",
    "total_words = len(first_5000.split())\n",
    "print(total_words)"
   ]
  },
  {
   "cell_type": "code",
   "execution_count": 5,
   "metadata": {},
   "outputs": [
    {
     "name": "stdout",
     "output_type": "stream",
     "text": [
      "58\n"
     ]
    }
   ],
   "source": [
    "## ¿Cuántas palabras únicas existen en el mismo rango?\n",
    "print(len(set(first_5000)))"
   ]
  },
  {
   "cell_type": "code",
   "execution_count": 20,
   "metadata": {},
   "outputs": [
    {
     "name": "stdout",
     "output_type": "stream",
     "text": [
      "La palabra no se encuentra en el texto\n"
     ]
    }
   ],
   "source": [
    "## Validar si una palabra aparece en el texto. Una palabra que un usuario ingrese a través de una función.\n",
    "def find_word(word):\n",
    "    if first_5000.find(word) > 1:\n",
    "        print(\"La palabra si se encuentra en el texto\")\n",
    "    else:\n",
    "        print(\"La palabra no se encuentra en el texto\")\n",
    "find_word(\"hello\")"
   ]
  },
  {
   "cell_type": "code",
   "execution_count": 31,
   "metadata": {},
   "outputs": [
    {
     "ename": "NameError",
     "evalue": "name 'string' is not defined",
     "output_type": "error",
     "traceback": [
      "\u001b[0;31m---------------------------------------------------------------------------\u001b[0m",
      "\u001b[0;31mNameError\u001b[0m                                 Traceback (most recent call last)",
      "\u001b[0;32m<ipython-input-31-f0389775c20d>\u001b[0m in \u001b[0;36m<module>\u001b[0;34m\u001b[0m\n\u001b[1;32m      2\u001b[0m \u001b[0;31m## palabras únicas existan en las primeras 5000 caracteres.\u001b[0m\u001b[0;34m\u001b[0m\u001b[0;34m\u001b[0m\u001b[0;34m\u001b[0m\u001b[0m\n\u001b[1;32m      3\u001b[0m \u001b[0mtotal\u001b[0m \u001b[0;34m=\u001b[0m \u001b[0mfirst_5000\u001b[0m\u001b[0;34m.\u001b[0m\u001b[0msplit\u001b[0m\u001b[0;34m(\u001b[0m\u001b[0;34m)\u001b[0m\u001b[0;34m\u001b[0m\u001b[0;34m\u001b[0m\u001b[0m\n\u001b[0;32m----> 4\u001b[0;31m \u001b[0mprint\u001b[0m\u001b[0;34m(\u001b[0m\u001b[0mstring\u001b[0m\u001b[0;34m.\u001b[0m\u001b[0mpunctuation\u001b[0m\u001b[0;34m)\u001b[0m\u001b[0;34m\u001b[0m\u001b[0;34m\u001b[0m\u001b[0m\n\u001b[0m",
      "\u001b[0;31mNameError\u001b[0m: name 'string' is not defined"
     ]
    }
   ],
   "source": [
    "## Elimina los signos de puntuación y nuevamente obten cuantas \n",
    "## palabras únicas existan en las primeras 5000 caracteres.\n",
    "def clear(word):\n",
    "    symbols = \"!@#$%^&*.,:;)(][}{\"\n",
    "    cw = ''\n",
    "    for w in words:\n",
    "        if word_to_find.lower() in clear(word.lower()): nw += 1\n",
    "    return nw"
   ]
  },
  {
   "cell_type": "markdown",
   "metadata": {},
   "source": [
    "## Paquetes\n",
    "\n",
    "Es un conjunto de módulos y funciones ya incluidas en Python con el fin de realizar operaciones sencillas y comunes. \n",
    "\n",
    "#### 6.1 Importando un paquete \n",
    "\n",
    "La importación de un paquete se realiza mediante el uso del comando **import**. Ciertos paquetes poseen nombres muy largos, por lo que suelen ser renombrados mediante el uso del complemento **as**: \n",
    "\n",
    "$$\\textbf{import }\\text{paquete }\\textbf{as }\\text{renobramiento}$$\n",
    "\n",
    "Dentro de los paquetes existen módulos o funciones espcíficas, a los cuales podemos acceder mediante el uso de la sintaxis **paquete.modulo()**\n",
    "\n",
    "\n",
    "### 6.2 Instalacion de paquetes \n",
    "\n",
    "Algunos paquetes no son incluidos directamente en la ditribución de Python por lo que debemos instarlas mediante el uso de herramientos de manejo de directorios como *pip* o *conda* \n",
    "\n",
    "- Usando *conda*, el propio sistema de manejo de la suite anaconda, en Anaconda prompt o terminal, dependiendo del caso, escribimos **conda install paquete 1 paquete 2 ...**. \n",
    "\n",
    "- Usando *pip*\n",
    "\n",
    "**Nota:** Cuando realicemos la instalación de un cierto paquete, debemos recordar instarlo en el ambiente que estemos utilizando para el proyecto. \n",
    "\n",
    "### 6.3 Paquetes importantes para la ciencia de Datos \n",
    "\n",
    "Aunque existen múltiples paquetes relacionados a una sección de la ciencia de datos, entre los más usados podemos mencionar \n",
    "\n",
    "\n",
    "1. **NumPy:** permite la integración de arreglos númericos de manera semenjante a MATLAB u Octave. Realmente es una manera de utilizar librerias de C, C++ y Fortran para realizar cálculos de manera rápida y eficiente. Información: http://www.numpy.org/\n",
    "\n",
    "\n",
    "2. **PyTorch**: es una de las librerias principales para el manejo de datos, aprendizaje automático, redes neuronales, ente otros. Represeta el peldaño de entrada para mucha gente sobre a estos temas por su simpleza. Información: https://pytorch.org/\n",
    "\n",
    "\n",
    "3. **SciPy:** Proporciona estadísticas, optimizaciones, integración y paquetes de álgebra lineal para computación. Se basa en el concepto NumPy para tratar problemas matemáticos complejos. Información: https://www.scipy.org/\n",
    "\n",
    "4. **Pandas:** Es una biblioteca de código abierto de Python para disponer de estructuras de datos de alto rendimiento y herramientas de análisis la cual se desarrolla sobre el paquete Numpy. Información: https://pandas.pydata.org/\n",
    "\n",
    "5. **SciKit-Learn:** Es una herramienta simple para el análisis de datos y tareas relacionadas con la minería de datos. Es de código abierto y licenciado bajo el BSD. Información: https://scikit-learn.org/stable/\n",
    "\n",
    "6. **Matplotlib:** Esta biblioteca de gráficos 2D es muy famosa entre los científicos de datos por diseñar variedades de figuras en múltiples formatos que son compatible con múltiples plataformas. Información: https://matplotlib.org/\n",
    "\n",
    "7. **Bokeh:** Es una biblioteca de visualización más para diseñar gráficas más atractivas e interactivas. Información: https://bokeh.pydata.org/en/latest/\n",
    "\n",
    "8. **Plotly https://plot.ly/**\n",
    "\n",
    "9. **Tensorflow:** Esta biblioteca de código abierto fue diseñada por Google para calcular gráficos de datos bajos con los algoritmos de aprendizaje automático habilitados. Fue diseñado para satisfacer la alta demanda del trabajo de redes neuronales de capacitación. Información: https://www.tensorflow.org/\n",
    "\n",
    "10. **Request para hacer llamados a API's**\n",
    "\n",
    "11. **BeautifulSoup/ Scrapy - Webscrapping**\n",
    "\n",
    "12. **NLP**"
   ]
  },
  {
   "cell_type": "code",
   "execution_count": null,
   "metadata": {},
   "outputs": [],
   "source": []
  }
 ],
 "metadata": {
  "kernelspec": {
   "display_name": "Python 3",
   "language": "python",
   "name": "python3"
  },
  "language_info": {
   "codemirror_mode": {
    "name": "ipython",
    "version": 3
   },
   "file_extension": ".py",
   "mimetype": "text/x-python",
   "name": "python",
   "nbconvert_exporter": "python",
   "pygments_lexer": "ipython3",
   "version": "3.7.6"
  }
 },
 "nbformat": 4,
 "nbformat_minor": 2
}
